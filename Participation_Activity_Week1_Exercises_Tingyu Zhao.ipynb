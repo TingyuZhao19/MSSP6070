{
  "cells": [
    {
      "cell_type": "markdown",
      "metadata": {
        "id": "cCx6ILytF2ue"
      },
      "source": [
        "# Coding exercises\n",
        "Exercises 1-3 are thought exercises that don't require coding.\n",
        "\n",
        "1. Explore the Jupyter Lab interface and look at some of the shortcuts available. Don't worry about memorizing them now (eventually they will become second nature and save you a lot of time), just get comfortable using notebooks.\n",
        "\n",
        "\n",
        "---\n",
        "\n",
        "\n",
        "2. Are all data normally distributed?\n",
        "\n",
        "    No，not all data are normally distributed.\n",
        "\n",
        "---\n",
        "\n",
        "\n",
        "\n",
        "3. When would it make more sense to use the median instead of the mean for the measure of center?\n",
        "\n",
        "    When there are outliers，it may make more sense to use the median over the mean as the measure of center.\n",
        "\n",
        "---\n",
        "\n"
      ]
    },
    {
      "cell_type": "markdown",
      "metadata": {
        "id": "PNpnrp1AF2uf"
      },
      "source": [
        "## Exercise 4: Generate the data by running this cell\n",
        "This will give you a list of numbers to work with in the remaining exercises."
      ]
    },
    {
      "cell_type": "code",
      "execution_count": 69,
      "metadata": {
        "colab": {
          "base_uri": "https://localhost:8080/"
        },
        "id": "hJZD462tF2uf",
        "outputId": "45b08841-ebf0-4fd8-a7fa-4480800eccf0"
      },
      "outputs": [
        {
          "output_type": "stream",
          "name": "stdout",
          "text": [
            "[844000.0, 758000.0, 421000.0, 259000.0, 511000.0, 405000.0, 784000.0, 303000.0, 477000.0, 583000.0, 908000.0, 505000.0, 282000.0, 756000.0, 618000.0, 251000.0, 910000.0, 983000.0, 810000.0, 902000.0, 310000.0, 730000.0, 899000.0, 684000.0, 472000.0, 101000.0, 434000.0, 611000.0, 913000.0, 967000.0, 477000.0, 865000.0, 260000.0, 805000.0, 549000.0, 14000.0, 720000.0, 399000.0, 825000.0, 668000.0, 1000.0, 494000.0, 868000.0, 244000.0, 325000.0, 870000.0, 191000.0, 568000.0, 239000.0, 968000.0, 803000.0, 448000.0, 80000.0, 320000.0, 508000.0, 933000.0, 109000.0, 551000.0, 707000.0, 547000.0, 814000.0, 540000.0, 964000.0, 603000.0, 588000.0, 445000.0, 596000.0, 385000.0, 576000.0, 290000.0, 189000.0, 187000.0, 613000.0, 657000.0, 477000.0, 90000.0, 758000.0, 877000.0, 923000.0, 842000.0, 898000.0, 923000.0, 541000.0, 391000.0, 705000.0, 276000.0, 812000.0, 849000.0, 895000.0, 590000.0, 950000.0, 580000.0, 451000.0, 660000.0, 996000.0, 917000.0, 793000.0, 82000.0, 613000.0, 486000.0]\n"
          ]
        }
      ],
      "source": [
        "import random\n",
        "random.seed(0)\n",
        "salaries = [round(random.random()*1000000, -3) for _ in range(100)]\n",
        "print(list(salaries))"
      ]
    },
    {
      "cell_type": "markdown",
      "metadata": {
        "id": "Ya53JWZ_F2ug"
      },
      "source": [
        "## Exercise 5: Calculating statistics and verifying\n",
        "\n",
        "Use the data generated above to calulate in code the following statistics without importing the statistics module. Then use the statistics module to verify your results.  Import the statistics module from https://docs.python.org/3/library/statistics.html\n",
        "\n",
        "### mean"
      ]
    },
    {
      "cell_type": "code",
      "execution_count": 70,
      "metadata": {
        "colab": {
          "base_uri": "https://localhost:8080/"
        },
        "id": "m5gzVVovF2ug",
        "outputId": "71ad5bbb-b99c-4358-a949-37e83d8286cf"
      },
      "outputs": [
        {
          "output_type": "execute_result",
          "data": {
            "text/plain": [
              "True"
            ]
          },
          "metadata": {},
          "execution_count": 70
        }
      ],
      "source": [
        "from statistics import mean\n",
        "\n",
        "sum(salaries)/len(salaries) == mean(salaries)"
      ]
    },
    {
      "cell_type": "markdown",
      "metadata": {
        "id": "ztTs-FZaF2uh"
      },
      "source": [
        "### median"
      ]
    },
    {
      "cell_type": "code",
      "execution_count": 71,
      "metadata": {
        "id": "ZgmVZ_sXF2uh"
      },
      "outputs": [],
      "source": [
        "import math\n",
        "\n",
        "def find_median(x):\n",
        "    x.sort()\n",
        "    midpoint = (len(x) + 1) / 2 - 1 # subtract 1 bc index starts at 0\n",
        "    if len(x) % 2:\n",
        "        # x has odd number of values\n",
        "        return x[int(midpoint)]\n",
        "    else:\n",
        "        return (x[math.floor(midpoint)] + x[math.ceil(midpoint)]) / 2"
      ]
    },
    {
      "cell_type": "code",
      "source": [
        "from statistics import median\n",
        "\n",
        "find_median(salaries) == median(salaries)"
      ],
      "metadata": {
        "colab": {
          "base_uri": "https://localhost:8080/"
        },
        "id": "ZBmtmL8aZILT",
        "outputId": "fa08eb30-27d7-46b2-b7a1-c1ee0a63cbd7"
      },
      "execution_count": 72,
      "outputs": [
        {
          "output_type": "execute_result",
          "data": {
            "text/plain": [
              "True"
            ]
          },
          "metadata": {},
          "execution_count": 72
        }
      ]
    },
    {
      "cell_type": "markdown",
      "metadata": {
        "id": "ObYHZtAhF2uh"
      },
      "source": [
        "### mode"
      ]
    },
    {
      "cell_type": "code",
      "execution_count": 73,
      "metadata": {
        "colab": {
          "base_uri": "https://localhost:8080/"
        },
        "id": "SQEHA466F2uh",
        "outputId": "322779a2-7b46-4bf8-b2c7-5e3e6a90b261"
      },
      "outputs": [
        {
          "output_type": "execute_result",
          "data": {
            "text/plain": [
              "True"
            ]
          },
          "metadata": {},
          "execution_count": 73
        }
      ],
      "source": [
        "from statistics import mode\n",
        "from collections import Counter\n",
        "\n",
        "Counter(salaries).most_common(1)[0][0] == mode(salaries)"
      ]
    },
    {
      "cell_type": "markdown",
      "metadata": {
        "id": "5OZ6p6frF2uh"
      },
      "source": [
        "### sample variance\n",
        "Remember to use Bessel's correction."
      ]
    },
    {
      "cell_type": "code",
      "execution_count": 74,
      "metadata": {
        "colab": {
          "base_uri": "https://localhost:8080/"
        },
        "id": "PdLgp3oVF2uh",
        "outputId": "028610a5-e481-47c9-af99-88e3d031d179"
      },
      "outputs": [
        {
          "output_type": "execute_result",
          "data": {
            "text/plain": [
              "True"
            ]
          },
          "metadata": {},
          "execution_count": 74
        }
      ],
      "source": [
        "from statistics import variance\n",
        "\n",
        "sum([(x - sum(salaries)/len(salaries))**2 for x in salaries])/(len(salaries) - 1) == variance(salaries)"
      ]
    },
    {
      "cell_type": "markdown",
      "metadata": {
        "id": "bEH6-56BF2uh"
      },
      "source": [
        "### sample standard deviation\n",
        "Remember to use Bessel's correction."
      ]
    },
    {
      "cell_type": "code",
      "execution_count": 75,
      "metadata": {
        "colab": {
          "base_uri": "https://localhost:8080/"
        },
        "id": "NcQGBIk0F2uh",
        "outputId": "3a43e525-dc3b-444a-adcb-55fd8b1f0e24"
      },
      "outputs": [
        {
          "output_type": "execute_result",
          "data": {
            "text/plain": [
              "True"
            ]
          },
          "metadata": {},
          "execution_count": 75
        }
      ],
      "source": [
        "from statistics import stdev\n",
        "import math\n",
        "\n",
        "math.sqrt(sum([(x - sum(salaries)/len(salaries))**2 for x in salaries])/(len(salaries) - 1)) == stdev(salaries)"
      ]
    },
    {
      "cell_type": "markdown",
      "metadata": {
        "id": "EAzPArZ3F2uh"
      },
      "source": [
        "## Exercise 6: Calculating more statistics\n",
        "### range"
      ]
    },
    {
      "cell_type": "code",
      "execution_count": 76,
      "metadata": {
        "colab": {
          "base_uri": "https://localhost:8080/"
        },
        "id": "GZzsjbZTF2uh",
        "outputId": "3ac6815b-dd87-4b50-f7eb-d4f117ed13c0"
      },
      "outputs": [
        {
          "output_type": "execute_result",
          "data": {
            "text/plain": [
              "995000.0"
            ]
          },
          "metadata": {},
          "execution_count": 76
        }
      ],
      "source": [
        "max(salaries) - min(salaries)"
      ]
    },
    {
      "cell_type": "markdown",
      "metadata": {
        "id": "UhOssiFnF2ui"
      },
      "source": [
        "### coefficient of variation"
      ]
    },
    {
      "cell_type": "code",
      "execution_count": 77,
      "metadata": {
        "colab": {
          "base_uri": "https://localhost:8080/"
        },
        "id": "rT-oMQNZF2ui",
        "outputId": "385c4ce3-e5c9-447b-f16f-3bb926726cce"
      },
      "outputs": [
        {
          "output_type": "execute_result",
          "data": {
            "text/plain": [
              "0.45386998894439035"
            ]
          },
          "metadata": {},
          "execution_count": 77
        }
      ],
      "source": [
        "from statistics import mean, stdev\n",
        "\n",
        "stdev(salaries)/mean(salaries)"
      ]
    },
    {
      "cell_type": "markdown",
      "metadata": {
        "id": "pJzNh-oDF2ui"
      },
      "source": [
        "### interquartile range"
      ]
    },
    {
      "cell_type": "code",
      "execution_count": 78,
      "metadata": {
        "id": "eIU7GNS8F2ui"
      },
      "outputs": [],
      "source": [
        "import math\n",
        "def quantile(x, pct):\n",
        "    x.sort()\n",
        "    index = (len(x) + 1) * pct - 1\n",
        "    if len(x) % 2:\n",
        "        return x[int(index)]\n",
        "    else:\n",
        "        return (x[math.floor(index)] + x[math.ceil(index)]) / 2"
      ]
    },
    {
      "cell_type": "code",
      "source": [
        "sum([x < quantile(salaries, 0.25) for x in salaries]) / len(salaries) == 0.25"
      ],
      "metadata": {
        "colab": {
          "base_uri": "https://localhost:8080/"
        },
        "id": "4PQ3QvsmIV3O",
        "outputId": "74eae6e3-05f1-4767-9cf3-47c31c7657ec"
      },
      "execution_count": 79,
      "outputs": [
        {
          "output_type": "execute_result",
          "data": {
            "text/plain": [
              "True"
            ]
          },
          "metadata": {},
          "execution_count": 79
        }
      ]
    },
    {
      "cell_type": "code",
      "source": [
        "sum([x < quantile(salaries, 0.75) for x in salaries]) / len(salaries) == 0.75"
      ],
      "metadata": {
        "colab": {
          "base_uri": "https://localhost:8080/"
        },
        "id": "nzNh0USdIZcY",
        "outputId": "d5419cad-fc10-41d7-aecc-40a11aee8a4a"
      },
      "execution_count": 80,
      "outputs": [
        {
          "output_type": "execute_result",
          "data": {
            "text/plain": [
              "True"
            ]
          },
          "metadata": {},
          "execution_count": 80
        }
      ]
    },
    {
      "cell_type": "code",
      "source": [
        "q3, q1 = quantile(salaries, 0.75), quantile(salaries, 0.25)\n",
        "iqr = q3 - q1\n",
        "iqr"
      ],
      "metadata": {
        "colab": {
          "base_uri": "https://localhost:8080/"
        },
        "id": "RT2k7yskIbaL",
        "outputId": "712f6d23-9e8e-4e60-a26f-e822fe9199eb"
      },
      "execution_count": 81,
      "outputs": [
        {
          "output_type": "execute_result",
          "data": {
            "text/plain": [
              "417500.0"
            ]
          },
          "metadata": {},
          "execution_count": 81
        }
      ]
    },
    {
      "cell_type": "markdown",
      "metadata": {
        "id": "ptQ_oTqNF2ui"
      },
      "source": [
        "### quartile coefficent of dispersion"
      ]
    },
    {
      "cell_type": "code",
      "execution_count": 82,
      "metadata": {
        "colab": {
          "base_uri": "https://localhost:8080/"
        },
        "id": "rs5wR_VtF2ui",
        "outputId": "7794c5a2-0899-4bdd-d753-6aa1073b34c6"
      },
      "outputs": [
        {
          "output_type": "execute_result",
          "data": {
            "text/plain": [
              "0.3417928776094965"
            ]
          },
          "metadata": {},
          "execution_count": 82
        }
      ],
      "source": [
        "iqr / (q1 + q3)"
      ]
    },
    {
      "cell_type": "markdown",
      "metadata": {
        "id": "Rjk9k5ynF2uj"
      },
      "source": [
        "## Exercise 7: Scaling data\n",
        "### min-max scaling"
      ]
    },
    {
      "cell_type": "code",
      "execution_count": 83,
      "metadata": {
        "colab": {
          "base_uri": "https://localhost:8080/"
        },
        "id": "_oWr2GvEF2uj",
        "outputId": "a5d116c8-aa8e-4f84-bfb6-f00e5fdf3590"
      },
      "outputs": [
        {
          "output_type": "execute_result",
          "data": {
            "text/plain": [
              "[0.0,\n",
              " 0.01306532663316583,\n",
              " 0.07939698492462312,\n",
              " 0.0814070351758794,\n",
              " 0.08944723618090453]"
            ]
          },
          "metadata": {},
          "execution_count": 83
        }
      ],
      "source": [
        "min_salary, max_salary = min(salaries), max(salaries)\n",
        "salary_range = max_salary - min_salary\n",
        "\n",
        "min_max_scaled = [(x - min_salary) / salary_range for x in salaries]\n",
        "min_max_scaled[:5]"
      ]
    },
    {
      "cell_type": "markdown",
      "metadata": {
        "id": "_aUlZMfwF2uj"
      },
      "source": [
        "### standardizing"
      ]
    },
    {
      "cell_type": "code",
      "execution_count": 84,
      "metadata": {
        "colab": {
          "base_uri": "https://localhost:8080/"
        },
        "id": "VmGw9Sr1F2uj",
        "outputId": "566f5dfd-819c-4984-9133-e7dea62b03a1"
      },
      "outputs": [
        {
          "output_type": "execute_result",
          "data": {
            "text/plain": [
              "[-2.199512275430514,\n",
              " -2.150608309943509,\n",
              " -1.9023266390094862,\n",
              " -1.8948029520114855,\n",
              " -1.8647082040194827]"
            ]
          },
          "metadata": {},
          "execution_count": 84
        }
      ],
      "source": [
        "from statistics import mean, stdev\n",
        "\n",
        "mean_salary, std_salary = mean(salaries), stdev(salaries)\n",
        "\n",
        "standardized = [(x - mean_salary) / std_salary for x in salaries]\n",
        "standardized[:5]"
      ]
    },
    {
      "cell_type": "markdown",
      "metadata": {
        "id": "MGpB8rhpF2uj"
      },
      "source": [
        "## Exercise 8: Calculating covariance and correlation\n",
        "### covariance"
      ]
    },
    {
      "cell_type": "code",
      "execution_count": 85,
      "metadata": {
        "id": "sF5wu8vXF2uj",
        "colab": {
          "base_uri": "https://localhost:8080/"
        },
        "outputId": "62285f68-2145-4518-ff6c-598d8aae6824"
      },
      "outputs": [
        {
          "output_type": "execute_result",
          "data": {
            "text/plain": [
              "array([[0.07137603, 0.26716293],\n",
              "       [0.26716293, 1.        ]])"
            ]
          },
          "metadata": {},
          "execution_count": 85
        }
      ],
      "source": [
        "import numpy as np\n",
        "np.cov(min_max_scaled, standardized)"
      ]
    },
    {
      "cell_type": "code",
      "source": [
        "from statistics import mean\n",
        "running_total = []\n",
        "for x, y in zip(min_max_scaled, standardized):\n",
        "    running_total.append((x - mean(min_max_scaled)) * (y - mean(standardized)))\n",
        "\n",
        "cov = mean(running_total)\n",
        "cov"
      ],
      "metadata": {
        "colab": {
          "base_uri": "https://localhost:8080/"
        },
        "id": "Hz5_XVNfJPD4",
        "outputId": "d9b8988f-ec85-4e31-92b0-dd1fcc533a60"
      },
      "execution_count": 86,
      "outputs": [
        {
          "output_type": "execute_result",
          "data": {
            "text/plain": [
              "0.26449129918250414"
            ]
          },
          "metadata": {},
          "execution_count": 86
        }
      ]
    },
    {
      "cell_type": "markdown",
      "metadata": {
        "id": "5EmstJ5bF2uj"
      },
      "source": [
        "### Pearson correlation coefficient ($\\rho$)"
      ]
    },
    {
      "cell_type": "code",
      "execution_count": 87,
      "metadata": {
        "id": "yhx9E_JXF2uj",
        "colab": {
          "base_uri": "https://localhost:8080/"
        },
        "outputId": "15fc5f35-8b17-4c22-f2f1-596c752dfded"
      },
      "outputs": [
        {
          "output_type": "execute_result",
          "data": {
            "text/plain": [
              "0.9900000000000001"
            ]
          },
          "metadata": {},
          "execution_count": 87
        }
      ],
      "source": [
        "from statistics import stdev\n",
        "cov / (stdev(min_max_scaled) * stdev(standardized))"
      ]
    }
  ],
  "metadata": {
    "kernelspec": {
      "display_name": "Python 3 (ipykernel)",
      "language": "python",
      "name": "python3"
    },
    "language_info": {
      "codemirror_mode": {
        "name": "ipython",
        "version": 3
      },
      "file_extension": ".py",
      "mimetype": "text/x-python",
      "name": "python",
      "nbconvert_exporter": "python",
      "pygments_lexer": "ipython3",
      "version": "3.9.16"
    },
    "colab": {
      "provenance": []
    }
  },
  "nbformat": 4,
  "nbformat_minor": 0
}