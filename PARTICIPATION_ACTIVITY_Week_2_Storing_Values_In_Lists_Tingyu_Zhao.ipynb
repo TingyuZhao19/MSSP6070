{
  "nbformat": 4,
  "nbformat_minor": 0,
  "metadata": {
    "colab": {
      "provenance": [],
      "authorship_tag": "ABX9TyMwGWWpXEMxIijUo89hAaZH",
      "include_colab_link": true
    },
    "kernelspec": {
      "name": "python3",
      "display_name": "Python 3"
    },
    "language_info": {
      "name": "python"
    }
  },
  "cells": [
    {
      "cell_type": "markdown",
      "metadata": {
        "id": "view-in-github",
        "colab_type": "text"
      },
      "source": [
        "<a href=\"https://colab.research.google.com/github/TingyuZhao19/MSSP6070/blob/main/PARTICIPATION_ACTIVITY_Week_2_Storing_Values_In_Lists_Tingyu_Zhao.ipynb\" target=\"_parent\"><img src=\"https://colab.research.google.com/assets/colab-badge.svg\" alt=\"Open In Colab\"/></a>"
      ]
    },
    {
      "cell_type": "code",
      "execution_count": null,
      "metadata": {
        "colab": {
          "base_uri": "https://localhost:8080/"
        },
        "id": "IJFMBAOTDSRE",
        "outputId": "c76176f9-52f6-4739-a79d-f4a2b59720b3"
      },
      "outputs": [
        {
          "output_type": "execute_result",
          "data": {
            "text/plain": [
              "[2, 4, 'hello', 8, 10]"
            ]
          },
          "metadata": {},
          "execution_count": 1
        }
      ],
      "source": [
        "spam = [2, 4, 6, 8, 10]\n",
        "spam[2] = 'hello'\n",
        "print(spam)"
      ]
    },
    {
      "cell_type": "code",
      "source": [
        "letters = ['a',  'b',  'c',  'd']\n",
        "letters[int(int('3'*2)//11)]\n",
        "# '3' * 2 = '33'\n",
        "# int('33') = 33\n",
        "# 33//11 = 3\n",
        "# int(3) = 3\n",
        "# letters[3] = 'd'\n",
        "\n",
        "letters[-1]\n",
        "# letters[-1] = 'd'\n",
        "# The integer value -1 refers to the last index in a list\n",
        "\n",
        "letters[:2]\n",
        "# letters[:2] = ['a', 'b']\n",
        "# the first integer is the index where the slice starts. The second integer is the index where the slice ends, leaving out the first index is the same as using 0\n",
        "\n",
        "print(letters[int(int('3'*2)//11)])\n",
        "print(letters[-1])\n",
        "print(letters[:2])"
      ],
      "metadata": {
        "colab": {
          "base_uri": "https://localhost:8080/"
        },
        "id": "3mCu7-kiJhkD",
        "outputId": "226ab4fe-3651-4f19-c76c-2f6855398bab"
      },
      "execution_count": null,
      "outputs": [
        {
          "output_type": "stream",
          "name": "stdout",
          "text": [
            "d\n",
            "d\n",
            "['a', 'b']\n"
          ]
        }
      ]
    },
    {
      "cell_type": "code",
      "source": [
        "letters = ['a', 'b', 'c', 'd']\n",
        "\n",
        "print(tuple(letters))\n",
        "print(list(tuple(letters)))"
      ],
      "metadata": {
        "colab": {
          "base_uri": "https://localhost:8080/"
        },
        "id": "7_JEHyZDQm_W",
        "outputId": "15db1e7b-1877-4867-d312-b8dd0c2ffeba"
      },
      "execution_count": null,
      "outputs": [
        {
          "output_type": "stream",
          "name": "stdout",
          "text": [
            "('a', 'b', 'c', 'd')\n",
            "['a', 'b', 'c', 'd']\n"
          ]
        }
      ]
    },
    {
      "cell_type": "code",
      "source": [
        "spam = ['apples', 'bananas', 'tofu', 'cats']\n",
        "\n",
        "text = \", \".join(spam[:-1]) + \", and \" + spam[-1]\n",
        "\n",
        "print(text)"
      ],
      "metadata": {
        "id": "HR2RE6lLSMWD",
        "colab": {
          "base_uri": "https://localhost:8080/"
        },
        "outputId": "b29b3a0b-2683-4abb-ec10-13263d10a034"
      },
      "execution_count": null,
      "outputs": [
        {
          "output_type": "stream",
          "name": "stdout",
          "text": [
            "apples, bananas, tofu, and cats\n"
          ]
        }
      ]
    }
  ]
}