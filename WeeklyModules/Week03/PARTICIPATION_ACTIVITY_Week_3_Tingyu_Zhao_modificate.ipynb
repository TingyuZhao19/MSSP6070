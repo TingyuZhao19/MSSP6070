{
  "nbformat": 4,
  "nbformat_minor": 0,
  "metadata": {
    "colab": {
      "provenance": []
    },
    "kernelspec": {
      "name": "python3",
      "display_name": "Python 3"
    },
    "language_info": {
      "name": "python"
    }
  },
  "cells": [
    {
      "cell_type": "markdown",
      "source": [
        "a. When does the code in a function execute: when the function is defined or called?\n",
        "\n",
        "When the function is called.\n",
        "\n",
        "---\n",
        "\n",
        "b. How many global scopes are there in a Python program? How many local scopes?\n",
        "\n",
        "There is only one global scope, and it is created when your program begins. There can be many local scopes. A local scope is created whenever a function is called.\n",
        "\n",
        "---\n",
        "\n",
        "c. What happens to variables in a local scope when the function call returns?\n",
        "\n",
        "When the function returns, the local scope is destroyed, and these variables are\n",
        "forgotten.\n",
        "\n",
        "---\n",
        "d. How can you prevent a program from crashing when it gets an error?\n",
        "\n",
        "By using exception handling(try/except), errors are caught, and the program continues running instead of crashing."
      ],
      "metadata": {
        "id": "ATua_f76adcA"
      }
    },
    {
      "cell_type": "code",
      "source": [
        "# Chapter 3 Practice Projects\n",
        "# collatz\n",
        "\n",
        "def collatz(number):\n",
        "    if number % 2 == 0:           # even\n",
        "        return number // 2\n",
        "    else:                         # odd\n",
        "        return 3 * number + 1\n",
        "\n",
        "\n",
        "try:\n",
        "    n = int(input(\"Enter number: \"))\n",
        "    while n != 1:\n",
        "        n = collatz(n)            # Keep calling collatz() until hit 1\n",
        "        print(n)\n",
        "\n",
        "except ValueError:\n",
        "    print(\"Please enter a valid INTEGER.\")\n"
      ],
      "metadata": {
        "colab": {
          "base_uri": "https://localhost:8080/"
        },
        "id": "fzz5LA9Pgi1-",
        "outputId": "f71d9440-b366-4b64-df11-451c93e46012"
      },
      "execution_count": 3,
      "outputs": [
        {
          "output_type": "stream",
          "name": "stdout",
          "text": [
            "Enter number: 3\n",
            "10\n",
            "5\n",
            "16\n",
            "8\n",
            "4\n",
            "2\n",
            "1\n"
          ]
        }
      ]
    },
    {
      "cell_type": "code",
      "source": [
        "print(\"Enter Number:\")\n",
        "try:\n",
        "    number = (int(input()))\n",
        "except ValueError:\n",
        "          print(\"Please enter a valid INTEGER.\")\n",
        "\n",
        "\n",
        "def collatz(number):\n",
        "    while number != 1:\n",
        "\n",
        "        if number % 2==0: #even\n",
        "            number = (number//2)\n",
        "            return (print(int(number)))\n",
        "\n",
        "        elif number % 2==1: #odd\n",
        "            number = (3*number+1)\n",
        "            return (print(int(number)))\n",
        "\n",
        "        continue\n",
        "\n",
        "try:\n",
        "    number = int(input())         # Error, if a text string or float is input.\n",
        "    collatz(number)\n",
        "except ValueError:\n",
        "    print('You must enter an integer type.')"
      ],
      "metadata": {
        "colab": {
          "base_uri": "https://localhost:8080/"
        },
        "id": "FZXNNoIvj2PV",
        "outputId": "45ea280b-3f04-49de-855b-200689beeadd"
      },
      "execution_count": null,
      "outputs": [
        {
          "output_type": "stream",
          "name": "stdout",
          "text": [
            "Enter Number:\n",
            "puppy\n",
            "Please enter a valid INTEGER.\n",
            "5\n",
            "16\n"
          ]
        }
      ]
    }
  ]
}