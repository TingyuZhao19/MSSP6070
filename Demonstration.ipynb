{
  "nbformat": 4,
  "nbformat_minor": 0,
  "metadata": {
    "colab": {
      "provenance": [],
      "mount_file_id": "1JjiWLgJQOCa8eSCV2uJkhtP0gDa6G2c8",
      "authorship_tag": "ABX9TyM/WXqtNcqXInoz3jUXOmLK",
      "include_colab_link": true
    },
    "kernelspec": {
      "name": "python3",
      "display_name": "Python 3"
    },
    "language_info": {
      "name": "python"
    }
  },
  "cells": [
    {
      "cell_type": "markdown",
      "metadata": {
        "id": "view-in-github",
        "colab_type": "text"
      },
      "source": [
        "<a href=\"https://colab.research.google.com/github/TingyuZhao19/MSSP6070/blob/main/Demonstration.ipynb\" target=\"_parent\"><img src=\"https://colab.research.google.com/assets/colab-badge.svg\" alt=\"Open In Colab\"/></a>"
      ]
    },
    {
      "cell_type": "code",
      "execution_count": null,
      "metadata": {
        "colab": {
          "base_uri": "https://localhost:8080/"
        },
        "id": "4oaxIsi6BveH",
        "outputId": "f92a2d80-e8e0-4f69-ffdc-f9841446f0bc"
      },
      "outputs": [
        {
          "output_type": "stream",
          "name": "stdout",
          "text": [
            "Cloning into 'MSSP6070'...\n",
            "remote: Enumerating objects: 32, done.\u001b[K\n",
            "remote: Counting objects: 100% (32/32), done.\u001b[K\n",
            "remote: Compressing objects: 100% (22/22), done.\u001b[K\n",
            "remote: Total 32 (delta 11), reused 16 (delta 5), pack-reused 0 (from 0)\u001b[K\n",
            "Receiving objects: 100% (32/32), 14.17 KiB | 468.00 KiB/s, done.\n",
            "Resolving deltas: 100% (11/11), done.\n"
          ]
        }
      ],
      "source": [
        "from google.colab import userdata\n",
        "import os\n",
        "\n",
        "github_token = userdata.get('Git_Key')\n",
        "owner = 'TingyuZhao19' # Replace with the GitHub repository owner\n",
        "repository = 'MSSP6070' # Replace with the GitHub repository name\n",
        "\n",
        "clone_url = f'https://{github_token}@github.com/{owner}/{repository}.git'\n",
        "\n",
        "# Clone the repository\n",
        "!git clone {clone_url}\n",
        "\n",
        "# Navigate into the cloned repository directory (optional, but often useful)\n",
        "# os.chdir(repository)\n",
        "# print(f\"Changed directory to: {os.getcwd()}\")"
      ]
    }
  ]
}